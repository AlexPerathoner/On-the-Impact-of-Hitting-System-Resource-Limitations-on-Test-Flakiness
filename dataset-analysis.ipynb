{
 "cells": [
  {
   "cell_type": "markdown",
   "metadata": {},
   "source": [
    "# Scripts for Replication\n",
    "Using this script you can replicate the results of the paper \"On the Impact of Hitting System Resource Limitations on Test Flakiness\"."
   ]
  },
  {
   "cell_type": "code",
   "execution_count": 1,
   "metadata": {},
   "outputs": [],
   "source": [
    "import json\n",
    "import pandas as pd\n",
    "import matplotlib.pyplot as plt\n",
    "from scipy import stats\n",
    "from IPython.display import display"
   ]
  },
  {
   "cell_type": "markdown",
   "metadata": {},
   "source": [
    "Loading the dataset (make sure the path is correct):"
   ]
  },
  {
   "cell_type": "code",
   "execution_count": 2,
   "metadata": {},
   "outputs": [],
   "source": [
    "test_cases = json.load(open('data/aggregated-stats.json'))"
   ]
  },
  {
   "cell_type": "markdown",
   "metadata": {},
   "source": [
    "We define a `RESOURCE` and `THRESHOLD` that we want to analyze.\n",
    "The `RESOURCE` can be one of the following:\n",
    "- userLoad (CPU load by user processes)\n",
    "- systemLoad (CPU load by system processes)\n",
    "- totalLoad (total CPU load)\n",
    "- activeMemory (memory usage)\n",
    "- availableMemory\n",
    "- networkRead\n",
    "- networkWrite\n",
    "- diskRead\n",
    "- diskWrite\n",
    "\n",
    "The `THRESHOLD` defines what test cases or runs we consider as having reached the resource's limitations. In the following, we will always check if the defined `RESOURCE` is greater or equal the defined `THRESHOLD`."
   ]
  },
  {
   "cell_type": "code",
   "execution_count": 3,
   "metadata": {},
   "outputs": [],
   "source": [
    "RESOURCE = \"totalLoad\"\n",
    "THRESHOLD = 100\n",
    "USE_LATEX = True # Set to False if you don't have LaTeX installed"
   ]
  },
  {
   "cell_type": "markdown",
   "metadata": {},
   "source": [
    "# Data Preprocessing"
   ]
  },
  {
   "cell_type": "markdown",
   "metadata": {},
   "source": [
    "We iterate over all test cases and their executions. For each run, we extract the resource's values and compare them to the threshold.\n",
    "\n",
    "We add every run to a dataframe that we will use for the analysis."
   ]
  },
  {
   "cell_type": "code",
   "execution_count": 4,
   "metadata": {},
   "outputs": [
    {
     "data": {
      "text/html": [
       "<div>\n",
       "<style scoped>\n",
       "    .dataframe tbody tr th:only-of-type {\n",
       "        vertical-align: middle;\n",
       "    }\n",
       "\n",
       "    .dataframe tbody tr th {\n",
       "        vertical-align: top;\n",
       "    }\n",
       "\n",
       "    .dataframe thead th {\n",
       "        text-align: right;\n",
       "    }\n",
       "</style>\n",
       "<table border=\"1\" class=\"dataframe\">\n",
       "  <thead>\n",
       "    <tr style=\"text-align: right;\">\n",
       "      <th></th>\n",
       "      <th>Test</th>\n",
       "      <th>Verdict</th>\n",
       "      <th>Flaky</th>\n",
       "      <th>Min</th>\n",
       "      <th>Median</th>\n",
       "      <th>Mean</th>\n",
       "      <th>Max</th>\n",
       "      <th>Size</th>\n",
       "      <th>Fraction of reaching resource limit</th>\n",
       "    </tr>\n",
       "  </thead>\n",
       "  <tbody>\n",
       "    <tr>\n",
       "      <th>0</th>\n",
       "      <td>'-[KometUITests.KometUITests testAddingComment...</td>\n",
       "      <td>PASSED</td>\n",
       "      <td>False</td>\n",
       "      <td>84.615385</td>\n",
       "      <td>100.000000</td>\n",
       "      <td>98.146725</td>\n",
       "      <td>100.0</td>\n",
       "      <td>106</td>\n",
       "      <td>0.679245</td>\n",
       "    </tr>\n",
       "    <tr>\n",
       "      <th>1</th>\n",
       "      <td>'-[KometUITests.KometUITests testAddingComment...</td>\n",
       "      <td>PASSED</td>\n",
       "      <td>False</td>\n",
       "      <td>36.666667</td>\n",
       "      <td>97.368421</td>\n",
       "      <td>85.696577</td>\n",
       "      <td>100.0</td>\n",
       "      <td>94</td>\n",
       "      <td>0.382979</td>\n",
       "    </tr>\n",
       "    <tr>\n",
       "      <th>2</th>\n",
       "      <td>'-[KometUITests.KometUITests testAddingComment...</td>\n",
       "      <td>PASSED</td>\n",
       "      <td>False</td>\n",
       "      <td>25.423729</td>\n",
       "      <td>89.873418</td>\n",
       "      <td>79.689769</td>\n",
       "      <td>100.0</td>\n",
       "      <td>95</td>\n",
       "      <td>0.231579</td>\n",
       "    </tr>\n",
       "    <tr>\n",
       "      <th>3</th>\n",
       "      <td>'-[KometUITests.KometUITests testAddingComment...</td>\n",
       "      <td>PASSED</td>\n",
       "      <td>False</td>\n",
       "      <td>27.118644</td>\n",
       "      <td>93.548387</td>\n",
       "      <td>80.492684</td>\n",
       "      <td>100.0</td>\n",
       "      <td>97</td>\n",
       "      <td>0.195876</td>\n",
       "    </tr>\n",
       "    <tr>\n",
       "      <th>4</th>\n",
       "      <td>'-[KometUITests.KometUITests testAddingComment...</td>\n",
       "      <td>PASSED</td>\n",
       "      <td>False</td>\n",
       "      <td>15.254237</td>\n",
       "      <td>93.243243</td>\n",
       "      <td>79.938149</td>\n",
       "      <td>100.0</td>\n",
       "      <td>94</td>\n",
       "      <td>0.308511</td>\n",
       "    </tr>\n",
       "  </tbody>\n",
       "</table>\n",
       "</div>"
      ],
      "text/plain": [
       "                                                Test Verdict  Flaky  \\\n",
       "0  '-[KometUITests.KometUITests testAddingComment...  PASSED  False   \n",
       "1  '-[KometUITests.KometUITests testAddingComment...  PASSED  False   \n",
       "2  '-[KometUITests.KometUITests testAddingComment...  PASSED  False   \n",
       "3  '-[KometUITests.KometUITests testAddingComment...  PASSED  False   \n",
       "4  '-[KometUITests.KometUITests testAddingComment...  PASSED  False   \n",
       "\n",
       "         Min      Median       Mean    Max  Size  \\\n",
       "0  84.615385  100.000000  98.146725  100.0   106   \n",
       "1  36.666667   97.368421  85.696577  100.0    94   \n",
       "2  25.423729   89.873418  79.689769  100.0    95   \n",
       "3  27.118644   93.548387  80.492684  100.0    97   \n",
       "4  15.254237   93.243243  79.938149  100.0    94   \n",
       "\n",
       "   Fraction of reaching resource limit  \n",
       "0                             0.679245  \n",
       "1                             0.382979  \n",
       "2                             0.231579  \n",
       "3                             0.195876  \n",
       "4                             0.308511  "
      ]
     },
     "execution_count": 4,
     "metadata": {},
     "output_type": "execute_result"
    }
   ],
   "source": [
    "iterations = []\n",
    "for test_case in test_cases:\n",
    "    for key, iteration in (test_case[\"passed_iterations\"] | test_case[\"failed_iterations\"]).items():\n",
    "         # Our dataset contains two objects for each test case: the failed and passed iterations.\n",
    "         # We determine if the run passed or failed by checking if its key is in the passed_iterations dictionary.\n",
    "        verdict = \"PASSED\" if key in test_case[\"passed_iterations\"] else \"FAILED\"\n",
    "        measurements = pd.Series([measurement[RESOURCE] for measurement in iteration]) # Extract the measurements for the current run and for the given resource\n",
    "\n",
    "        iterations.append([test_case[\"testCase\"],\n",
    "                           verdict,\n",
    "                           test_case['entropy'] > 0,\n",
    "                           measurements.min(),\n",
    "                           measurements.median(),\n",
    "                           measurements.mean(),\n",
    "                           measurements.max(),\n",
    "                           measurements.size,\n",
    "                           (measurements >= THRESHOLD).sum() / measurements.size # Fraction of measurements that reached the resource limit threshold\n",
    "                           ])\n",
    "\n",
    "# Create a dataframe from the collected data\n",
    "df = pd.DataFrame(iterations, columns=[\"Test\", \"Verdict\", \"Flaky\", \"Min\", \"Median\", \"Mean\", \"Max\", \"Size\", \"Fraction of reaching resource limit\"])\n",
    "df.head()"
   ]
  },
  {
   "cell_type": "markdown",
   "metadata": {},
   "source": [
    "# Descriptive Data"
   ]
  },
  {
   "cell_type": "markdown",
   "metadata": {},
   "source": [
    "We can retrieve some basic information about the dataset:"
   ]
  },
  {
   "cell_type": "code",
   "execution_count": 5,
   "metadata": {},
   "outputs": [
    {
     "name": "stdout",
     "output_type": "stream",
     "text": [
      "Number of test cases:  232\n",
      "Number of flaky test cases:  [23]\n",
      "Number of non-flaky test cases:  [209]\n",
      "Number of total test runs:  6841\n"
     ]
    }
   ],
   "source": [
    "distinct_test_cases = df.groupby([\"Test\"])[\"Flaky\"].unique()\n",
    "print(\"Number of test cases: \", distinct_test_cases.size)\n",
    "print(\"Number of flaky test cases: \", sum(distinct_test_cases))\n",
    "print(\"Number of non-flaky test cases: \", sum(~distinct_test_cases))\n",
    "print(\"Number of total test runs: \", df.shape[0])"
   ]
  },
  {
   "cell_type": "markdown",
   "metadata": {},
   "source": [
    "# Results"
   ]
  },
  {
   "cell_type": "code",
   "execution_count": 6,
   "metadata": {},
   "outputs": [],
   "source": [
    "# Define functions to analyze and plot the results...\n",
    "plt.rcParams.update({\n",
    "    \"text.usetex\": True,\n",
    "    \"font.family\": \"Palatino\",\n",
    "    'font.size': 14,\n",
    "})\n",
    "\n",
    "def plot_data(series, labels, title):\n",
    "    fig, ax = plt.subplots()\n",
    "    plt.rcParams['text.usetex'] = USE_LATEX\n",
    "\n",
    "    for s, label in zip(series, labels):\n",
    "        cdf = s.sort_values().reset_index(drop=True).reset_index()\n",
    "        ax.plot(cdf['index']/len(cdf), cdf[\"Fraction of reaching resource limit\"], label=f\"{label}\")\n",
    "\n",
    "    ax.set_xlabel('Share of Test Executions')\n",
    "    ax.set_ylabel('Relative Time Spent in CPU Limit')\n",
    "    ax.legend()\n",
    "    fig.tight_layout()\n",
    "\n",
    "    plt.savefig(f\"plot_{title}.pdf\")\n",
    "    \n",
    "def perform_mwutest(data_group1, data_group2):\n",
    "    u_stat, p_val = stats.mannwhitneyu(data_group1, data_group2)\n",
    "    print(f\"u-statistic: {u_stat}, p-value: {p_val}\")"
   ]
  },
  {
   "cell_type": "markdown",
   "metadata": {},
   "source": [
    "## RQ 1 (Executions of Flaky versus Non-flaky Tests)\n",
    "### Visual and Statistical Analysis of the Data"
   ]
  },
  {
   "cell_type": "markdown",
   "metadata": {},
   "source": [
    "> To what extent do executions of flaky tests reach the CPU limit compared to executions of non-flaky tests?"
   ]
  },
  {
   "cell_type": "markdown",
   "metadata": {},
   "source": [
    "We retrieve the fraction of runs that reach the CPU limit for runs of flaky and non-flaky tests:"
   ]
  },
  {
   "cell_type": "code",
   "execution_count": 7,
   "metadata": {},
   "outputs": [
    {
     "data": {
      "text/plain": [
       "count    690.000000\n",
       "mean       0.293310\n",
       "std        0.359519\n",
       "min        0.000000\n",
       "25%        0.000000\n",
       "50%        0.078990\n",
       "75%        0.551632\n",
       "max        1.000000\n",
       "Name: Fraction of flaky test cases reaching resource limit, dtype: float64"
      ]
     },
     "metadata": {},
     "output_type": "display_data"
    },
    {
     "data": {
      "text/plain": [
       "count    6151.000000\n",
       "mean        0.094462\n",
       "std         0.209877\n",
       "min         0.000000\n",
       "25%         0.000000\n",
       "50%         0.000000\n",
       "75%         0.063830\n",
       "max         1.000000\n",
       "Name: Fraction of non-flaky test cases reaching resource limit, dtype: float64"
      ]
     },
     "metadata": {},
     "output_type": "display_data"
    },
    {
     "name": "stdout",
     "output_type": "stream",
     "text": [
      "u-statistic: 2931497.5, p-value: 5.20228115425612e-77\n"
     ]
    }
   ],
   "source": [
    "flaky_runs_at_limit = df[df[\"Flaky\"]][\"Fraction of reaching resource limit\"]\n",
    "non_flaky_runs_at_limit = df[df[\"Flaky\"] == False][\"Fraction of reaching resource limit\"]\n",
    "display(flaky_runs_at_limit.rename(\"Fraction of flaky test cases reaching resource limit\").describe())\n",
    "display(non_flaky_runs_at_limit.rename(\"Fraction of non-flaky test cases reaching resource limit\").describe())\n",
    "\n",
    "perform_mwutest(flaky_runs_at_limit, non_flaky_runs_at_limit)"
   ]
  },
  {
   "cell_type": "markdown",
   "metadata": {},
   "source": [
    "We also create a plot that intuitively shows the difference between the two groups:"
   ]
  },
  {
   "cell_type": "code",
   "execution_count": 8,
   "metadata": {},
   "outputs": [
    {
     "data": {
      "image/png": "[encoded data removed]",
      "text/plain": [
       "<Figure size 640x480 with 1 Axes>"
      ]
     },
     "metadata": {},
     "output_type": "display_data"
    }
   ],
   "source": [
    "plot_data(series=[flaky_runs_at_limit, non_flaky_runs_at_limit],\n",
    "        labels=[f\"$H_r(T) > 0$ (flaky)\", f\"$H_r(T) = 0$ (non-flaky)\"],\n",
    "        title=\"flaky-non-flaky\")"
   ]
  },
  {
   "cell_type": "markdown",
   "metadata": {},
   "source": [
    "## RQ 2 (Passes versus Failures of Flaky Tests)\n",
    "### Visual and statistical analysis of the data"
   ]
  },
  {
   "cell_type": "markdown",
   "metadata": {},
   "source": [
    "> To what extent do failing executions of flaky tests reach the CPU limit compared to passing executions?"
   ]
  },
  {
   "cell_type": "markdown",
   "metadata": {},
   "source": [
    "Fot this reseearch question, we only consider flaky tests:\n"
   ]
  },
  {
   "cell_type": "code",
   "execution_count": 9,
   "metadata": {},
   "outputs": [],
   "source": [
    "df_flaky = df[df[\"Flaky\"]]"
   ]
  },
  {
   "cell_type": "markdown",
   "metadata": {},
   "source": [
    "This time we retrieve the fraction of runs that reach the CPU limit for runs that pass and runs that fail:"
   ]
  },
  {
   "cell_type": "code",
   "execution_count": 10,
   "metadata": {},
   "outputs": [
    {
     "data": {
      "text/plain": [
       "count    362.000000\n",
       "mean       0.336328\n",
       "std        0.337291\n",
       "min        0.000000\n",
       "25%        0.017722\n",
       "50%        0.237468\n",
       "75%        0.561419\n",
       "max        1.000000\n",
       "Name: Fraction of flaky test cases reaching resource limit (passed), dtype: float64"
      ]
     },
     "metadata": {},
     "output_type": "display_data"
    },
    {
     "data": {
      "text/plain": [
       "count    328.000000\n",
       "mean       0.245833\n",
       "std        0.377410\n",
       "min        0.000000\n",
       "25%        0.000000\n",
       "50%        0.007399\n",
       "75%        0.470458\n",
       "max        1.000000\n",
       "Name: Fraction of flaky test cases reaching resource limit (failed), dtype: float64"
      ]
     },
     "metadata": {},
     "output_type": "display_data"
    },
    {
     "name": "stdout",
     "output_type": "stream",
     "text": [
      "u-statistic: 74865.5, p-value: 1.8734785537855945e-09\n"
     ]
    }
   ],
   "source": [
    "passing_runs = df_flaky[df_flaky[\"Verdict\"] == \"PASSED\"][\"Fraction of reaching resource limit\"]\n",
    "failing_runs = df_flaky[df_flaky[\"Verdict\"] == \"FAILED\"][\"Fraction of reaching resource limit\"]\n",
    "display(passing_runs.rename(\"Fraction of flaky test cases reaching resource limit (passed)\").describe())\n",
    "display(failing_runs.rename(\"Fraction of flaky test cases reaching resource limit (failed)\").describe())\n",
    "\n",
    "perform_mwutest(passing_runs, failing_runs)"
   ]
  },
  {
   "cell_type": "markdown",
   "metadata": {},
   "source": [
    "We can again create a plot that intuitively shows the difference between the two groups:"
   ]
  },
  {
   "cell_type": "code",
   "execution_count": 11,
   "metadata": {},
   "outputs": [
    {
     "data": {
      "image/png": "[encoded data removed]",
      "text/plain": [
       "<Figure size 640x480 with 1 Axes>"
      ]
     },
     "metadata": {},
     "output_type": "display_data"
    }
   ],
   "source": [
    "plot_data(series=[passing_runs, failing_runs],\n",
    "          labels=[f\"$r=P$ (passed)\", f\"$r=F$ (failed)\"],\n",
    "          title=\"passed-failed\")"
   ]
  }
 ],
 "metadata": {
  "kernelspec": {
   "display_name": ".venv",
   "language": "python",
   "name": "python3"
  },
  "language_info": {
   "codemirror_mode": {
    "name": "ipython",
    "version": 3
   },
   "file_extension": ".py",
   "mimetype": "text/x-python",
   "name": "python",
   "nbconvert_exporter": "python",
   "pygments_lexer": "ipython3",
   "version": "3.12.0"
  }
 },
 "nbformat": 4,
 "nbformat_minor": 2
}
